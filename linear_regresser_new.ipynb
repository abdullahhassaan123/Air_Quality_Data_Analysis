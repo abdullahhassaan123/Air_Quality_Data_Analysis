{
 "cells": [
  {
   "cell_type": "code",
   "execution_count": 1,
   "id": "828bd300-531e-4ade-87cc-143884439814",
   "metadata": {},
   "outputs": [
    {
     "name": "stderr",
     "output_type": "stream",
     "text": [
      "C:\\Users\\hp\\AppData\\Local\\Temp\\ipykernel_24516\\1132825955.py:5: DtypeWarning: Columns (0) have mixed types. Specify dtype option on import or set low_memory=False.\n",
      "  df = pd.read_csv(\"data_utf8.csv\")\n"
     ]
    }
   ],
   "source": [
    "import pandas as pd\n",
    "import numpy as np\n",
    "\n",
    "# Load data\n",
    "df = pd.read_csv(\"data_utf8.csv\")\n",
    "\n",
    "# Convert 'date' column to datetime and extract month, day, and year\n",
    "df[\"month\"] = pd.to_datetime(df[\"date\"]).dt.strftime('%b')  # E.g., Jan, Feb\n",
    "df[\"day\"] = pd.to_datetime(df[\"date\"]).dt.day               # Day as a number (1-31)\n",
    "df[\"year\"] = pd.to_datetime(df[\"date\"]).dt.year             # Year as a four-digit number\n",
    "\n",
    "\n",
    "# Save the updated DataFrame back to the same file\n",
    "df.to_csv(\"new_data.csv\", index=False)"
   ]
  },
  {
   "cell_type": "code",
   "execution_count": 2,
   "id": "ea5a67fb-1e82-4309-9ca7-396651179483",
   "metadata": {},
   "outputs": [
    {
     "name": "stdout",
     "output_type": "stream",
     "text": [
      "            state   location                                type  so2   no2  \\\n",
      "0  Andhra Pradesh  Hyderabad  Residential, Rural and other Areas  4.8  17.4   \n",
      "1  Andhra Pradesh  Hyderabad                     Industrial Area  3.1   7.0   \n",
      "2  Andhra Pradesh  Hyderabad  Residential, Rural and other Areas  6.2  28.5   \n",
      "3  Andhra Pradesh  Hyderabad  Residential, Rural and other Areas  6.3  14.7   \n",
      "4  Andhra Pradesh  Hyderabad                     Industrial Area  4.7   7.5   \n",
      "\n",
      "   rspm  spm month  day    year  \n",
      "0   NaN  NaN   Feb  1.0  1990.0  \n",
      "1   NaN  NaN   Feb  1.0  1990.0  \n",
      "2   NaN  NaN   Feb  1.0  1990.0  \n",
      "3   NaN  NaN   Mar  1.0  1990.0  \n",
      "4   NaN  NaN   Mar  1.0  1990.0  \n",
      "state            0\n",
      "location         3\n",
      "type          5393\n",
      "so2          34646\n",
      "no2          16233\n",
      "rspm         40222\n",
      "spm         237387\n",
      "month            7\n",
      "day              7\n",
      "year             7\n",
      "dtype: int64\n",
      "state            0\n",
      "location         0\n",
      "type          5390\n",
      "so2          34643\n",
      "no2          16230\n",
      "rspm         40219\n",
      "spm         237380\n",
      "month            0\n",
      "day              0\n",
      "year             0\n",
      "dtype: int64\n",
      "state       0\n",
      "location    0\n",
      "type        0\n",
      "so2         0\n",
      "no2         0\n",
      "rspm        0\n",
      "spm         0\n",
      "month       0\n",
      "day         0\n",
      "year        0\n",
      "dtype: int64\n"
     ]
    }
   ],
   "source": [
    "# imputation\n",
    "\n",
    "#first remove unnecessary columns\n",
    "df = df.drop(['stn_code', 'sampling_date', 'date', 'location_monitoring_station', 'pm2_5', 'agency'], axis=1)\n",
    "# axis=1: Indicates that you're dropping columns (not rows)\n",
    "print(df.head())\n",
    "print(df.isnull().sum())\n",
    "\n",
    "# Remove rows where all three columns 'month', 'day', and 'year' are missing\n",
    "df = df.dropna(subset=['month', 'day', 'year'], how='all')\n",
    "print(df.isnull().sum())\n",
    "\n",
    "#  Impute 'rspm' based on the mean of 'rspm' for each month\n",
    "month_means = df.groupby('month')['rspm'].transform('mean')\n",
    "df['rspm'] = df['rspm'].fillna(month_means)\n",
    "\n",
    "month_means1 = df.groupby('month')['spm'].transform('mean')\n",
    "df['spm'] = df['spm'].fillna(month_means1)\n",
    "\n",
    "month_means2 = df.groupby('month')['so2'].transform('mean')\n",
    "df['so2'] = df['so2'].fillna(month_means2)\n",
    "\n",
    "month_means3 = df.groupby('month')['no2'].transform('mean')\n",
    "df['no2'] = df['no2'].fillna(month_means3)\n",
    "\n",
    "# for locations missing:\n",
    "#  Calculate the mode of 'location' for each 'state'\n",
    "state_mode = df.groupby('state')['location'].agg(lambda x: x.mode().iloc[0] if not x.mode().empty else np.nan)\n",
    "\n",
    "#  Impute missing 'location' values using the mode for the corresponding 'state'\n",
    "df['location'] = df.apply(\n",
    "    lambda row: state_mode[row['state']] if pd.isnull(row['location']) else row['location'], axis=1\n",
    ")\n",
    "# for type missing:\n",
    "#  Calculate the mode of 'type' for each 'state'\n",
    "location_mode = df.groupby('state')['type'].agg(lambda x: x.mode().iloc[0] if not x.mode().empty else np.nan)\n",
    "\n",
    "#  Impute missing 'type' values using the mode for the corresponding 'state'\n",
    "df['type'] = df.apply(\n",
    "    lambda row: location_mode[row['state']] if pd.isnull(row['type']) else row['type'], axis=1   \n",
    ")\n",
    "\n",
    "\"\"\"\n",
    "groupby('state')['location'].agg(lambda x: x.mode().iloc[0] if not x.mode().empty else np.nan):\n",
    "This groups the data by state and calculates the mode of location for each state. If there are no valid modes (e.g., all NaN values), it returns NaN.\n",
    "apply(lambda row: state_mode[row['state']] if pd.isnull(row['location']) else row['location'], axis=1):\n",
    "This applies a function across each row.\n",
    "If location is missing (NaN), it uses the mode of location for the corresponding state.\n",
    "If location is not missing, it keeps the original value.\n",
    "\"\"\"\n",
    "\n",
    "print(df.isnull().sum())\n",
    "\n"
   ]
  },
  {
   "cell_type": "code",
   "execution_count": 3,
   "id": "a517c40d-f7e1-4cb8-8058-592accc38009",
   "metadata": {},
   "outputs": [
    {
     "name": "stdout",
     "output_type": "stream",
     "text": [
      "   state  location  type  so2   no2        rspm         spm  month  day  year\n",
      "0      0       114     6  4.8  17.4  117.076940  239.597104      3    0     3\n",
      "1      0       114     1  3.1   7.0  117.076940  239.597104      3    0     3\n",
      "2      0       114     6  6.2  28.5  117.076940  239.597104      3    0     3\n",
      "3      0       114     6  6.3  14.7  115.227345  237.053027      7    0     3\n",
      "4      0       114     1  4.7   7.5  115.227345  237.053027      7    0     3\n"
     ]
    },
    {
     "data": {
      "text/plain": [
       "(435735, 10)"
      ]
     },
     "execution_count": 3,
     "metadata": {},
     "output_type": "execute_result"
    }
   ],
   "source": [
    "from sklearn.preprocessing import LabelEncoder\n",
    "\n",
    "\n",
    "\n",
    "categorical_columns = ['state', 'location', 'type', 'month', 'day', 'year']\n",
    "label_encoders = {col: LabelEncoder() for col in categorical_columns}\n",
    "\n",
    "for col, encoder in label_encoders.items():\n",
    "    df[col] = encoder.fit_transform(df[col])\n",
    "print(df.head())\n",
    "df.shape\n"
   ]
  },
  {
   "cell_type": "code",
   "execution_count": 4,
   "id": "e4870a20-6bb7-41a4-adae-472e0ec7c3ee",
   "metadata": {},
   "outputs": [],
   "source": [
    "from sklearn.model_selection import train_test_split\n",
    "\n",
    "# Features and target\n",
    "X = df[['so2', 'no2', 'spm', 'state', 'location', 'type', 'month', 'day', 'year']]  #dropping some columns above has made its R -squared to 0.30 (was lesser before)\n",
    "y = df['rspm']\n",
    "\n",
    "# Train-test split\n",
    "X_train, X_test, y_train, y_test = train_test_split(X, y, test_size=0.3, random_state=42)\n",
    "\n",
    "\n",
    "\n"
   ]
  },
  {
   "cell_type": "code",
   "execution_count": 5,
   "id": "6fa7b13f-19fa-4b20-b38d-36bac4707919",
   "metadata": {},
   "outputs": [
    {
     "name": "stdout",
     "output_type": "stream",
     "text": [
      "MAE :  41.454033732092405\n",
      "MSE :  3498.536016625363\n",
      "R_Squared :  0.30183803475590665\n"
     ]
    },
    {
     "data": {
      "text/plain": [
       "'\\nSteps to increase R-squared\\nRemove Outliers: Identify and handle outliers using techniques like the IQR method or z-scores, as they can distort the relationship between variables. (Removing outliers will depreciate teh purpose of project. which is to be able to study the daat_monitoring faults/ anomalies study, etc.)\\nImpute Missing Values: Address missing data through mean, median, mode, or advanced imputation methods like KNN or regression-based imputation. (have done that)\\nIncrease Dataset Size: A larger dataset often provides more robust estimates of relationships between variables. (already taking complete data)\\n'"
      ]
     },
     "execution_count": 5,
     "metadata": {},
     "output_type": "execute_result"
    }
   ],
   "source": [
    "\n",
    "from sklearn.linear_model import LinearRegression\n",
    "from sklearn.metrics import mean_absolute_error, mean_squared_error\n",
    "\n",
    "\n",
    "model = LinearRegression()\n",
    "model.fit(X_train, y_train)\n",
    "\n",
    "y_pred = model.predict(X_test)\n",
    "\n",
    "\n",
    "\n",
    "#now \n",
    "MAE = mean_absolute_error(y_test, y_pred)\n",
    "print(\"MAE : \", MAE)\n",
    "\n",
    "MSE = mean_squared_error(y_test, y_pred)\n",
    "print(\"MSE : \", MSE)\n",
    "\n",
    "#calculate R-squared of regression model\n",
    "R_squared = model.score(X_train, y_train)\n",
    "print(\"R_Squared : \", R_squared)\n",
    "\n",
    "\n",
    "\"\"\"\n",
    "Steps to increase R-squared\n",
    "Remove Outliers: Identify and handle outliers using techniques like the IQR method or z-scores, as they can distort the relationship between variables. (Removing outliers will depreciate teh purpose of project. which is to be able to study the daat_monitoring faults/ anomalies study, etc.)\n",
    "Impute Missing Values: Address missing data through mean, median, mode, or advanced imputation methods like KNN or regression-based imputation. (have done that)\n",
    "Increase Dataset Size: A larger dataset often provides more robust estimates of relationships between variables. (already taking complete data)\n",
    "\"\"\""
   ]
  },
  {
   "cell_type": "code",
   "execution_count": null,
   "id": "965ae596-e10f-479b-b372-4d18f10a478c",
   "metadata": {},
   "outputs": [],
   "source": []
  },
  {
   "cell_type": "code",
   "execution_count": null,
   "id": "e3bafbe6-ad3f-4a14-8e8b-2d37bd538b60",
   "metadata": {},
   "outputs": [],
   "source": []
  },
  {
   "cell_type": "code",
   "execution_count": null,
   "id": "50745f0d-2d65-4f41-82ef-79d94756a39e",
   "metadata": {},
   "outputs": [],
   "source": []
  },
  {
   "cell_type": "code",
   "execution_count": null,
   "id": "620e9be2-37ff-4181-8da5-763f70bcb08e",
   "metadata": {},
   "outputs": [],
   "source": []
  },
  {
   "cell_type": "code",
   "execution_count": null,
   "id": "ddab4104-c695-4eeb-94db-f85f935b8955",
   "metadata": {},
   "outputs": [],
   "source": []
  },
  {
   "cell_type": "code",
   "execution_count": null,
   "id": "a27ae0b2-276c-4b18-81f2-999496967dad",
   "metadata": {},
   "outputs": [],
   "source": []
  },
  {
   "cell_type": "markdown",
   "id": "38a79454-d8ad-40ee-9f64-a178ac3d890d",
   "metadata": {},
   "source": []
  },
  {
   "cell_type": "code",
   "execution_count": null,
   "id": "89600b25-d638-4c74-b21a-3dd6da1aad57",
   "metadata": {},
   "outputs": [],
   "source": []
  },
  {
   "cell_type": "code",
   "execution_count": null,
   "id": "5cc1b362-72a2-4ab4-af8c-3489616d6c18",
   "metadata": {},
   "outputs": [],
   "source": []
  },
  {
   "cell_type": "code",
   "execution_count": null,
   "id": "70c91d70-fdfa-4bf6-ad06-bdf8763a581e",
   "metadata": {},
   "outputs": [],
   "source": []
  },
  {
   "cell_type": "code",
   "execution_count": null,
   "id": "5ee8daac-3e16-4534-89a5-5dfc2e6be5b0",
   "metadata": {},
   "outputs": [],
   "source": []
  },
  {
   "cell_type": "code",
   "execution_count": null,
   "id": "f91fd2dc-509c-4e20-b80a-c4aa74e9e30d",
   "metadata": {},
   "outputs": [],
   "source": []
  },
  {
   "cell_type": "code",
   "execution_count": null,
   "id": "39952764-5322-4059-8933-2ceaeda9b3c7",
   "metadata": {},
   "outputs": [],
   "source": []
  }
 ],
 "metadata": {
  "kernelspec": {
   "display_name": "Python 3 (ipykernel)",
   "language": "python",
   "name": "python3"
  },
  "language_info": {
   "codemirror_mode": {
    "name": "ipython",
    "version": 3
   },
   "file_extension": ".py",
   "mimetype": "text/x-python",
   "name": "python",
   "nbconvert_exporter": "python",
   "pygments_lexer": "ipython3",
   "version": "3.10.14"
  }
 },
 "nbformat": 4,
 "nbformat_minor": 5
}
